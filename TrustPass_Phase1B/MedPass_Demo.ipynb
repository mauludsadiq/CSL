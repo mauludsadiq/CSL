{
 "cells": [
  {
   "cell_type": "code",
   "execution_count": null,
   "id": "2c1600ae",
   "metadata": {},
   "outputs": [],
   "source": [
    "# MedPass_Demo.ipynb\n",
    "\n",
    "# Import the necessary module\n",
    "from trustpass.llm.guard import Guard\n",
    "\n",
    "# Create an instance of the Guard class\n",
    "guard = Guard()\n",
    "\n",
    "# Example text for drift detection and correction\n",
    "text = \"The patient refused treatment.\"\n",
    "\n",
    "# Evaluate drift\n",
    "drift_score, violations = guard.evaluate(text)\n",
    "print(\"Drift Score:\", drift_score)\n",
    "print(\"Violations:\", violations)\n",
    "\n",
    "# Correct drift\n",
    "corrected_text = guard.correct(text)\n",
    "print(\"Corrected Text:\", corrected_text)\n"
   ]
  }
 ],
 "metadata": {
  "kernelspec": {
   "display_name": "venv",
   "language": "python",
   "name": "python3"
  },
  "language_info": {
   "name": "python",
   "version": "3.13.5"
  }
 },
 "nbformat": 4,
 "nbformat_minor": 5
}
