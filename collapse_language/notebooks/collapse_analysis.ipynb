{
 "cells": [
  {
   "cell_type": "code",
   "execution_count": null,
   "id": "d76d9907",
   "metadata": {
    "vscode": {
     "languageId": "plaintext"
    }
   },
   "outputs": [],
   "source": [
    "import numpy as np\n",
    "from scipy.spatial.distance import pdist, squareform\n",
    "import seaborn as sns\n",
    "import matplotlib.pyplot as plt\n",
    "\n",
    "vectors = np.load(\"../data/vectors.npy\", allow_pickle=True).item()\n",
    "labels = list(vectors.keys())\n",
    "X = np.stack([vectors[k] for k in labels])\n",
    "dist = squareform(pdist(X, metric=\"cosine\"))\n",
    "\n",
    "sns.heatmap(dist, xticklabels=labels, yticklabels=labels)\n",
    "plt.title(\"Pairwise Collapse Distance\")\n",
    "plt.show()\n"
   ]
  }
 ],
 "metadata": {
  "language_info": {
   "name": "python"
  }
 },
 "nbformat": 4,
 "nbformat_minor": 5
}
